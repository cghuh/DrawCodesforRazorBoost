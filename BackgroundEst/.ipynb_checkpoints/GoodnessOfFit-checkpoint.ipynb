{
 "cells": [
  {
   "cell_type": "code",
   "execution_count": 1,
   "metadata": {},
   "outputs": [
    {
     "name": "stdout",
     "output_type": "stream",
     "text": [
      "Welcome to JupyROOT 6.22/09\n"
     ]
    }
   ],
   "source": [
    "import ROOT\n",
    "import uproot\n",
    "import numpy as np\n",
    "import matplotlib.pyplot as plt"
   ]
  },
  {
   "cell_type": "markdown",
   "metadata": {},
   "source": [
    "# GoodnessOfFit discussion\n",
    "\n",
    "One very attractive feature of our test statistic\n",
    "$$t_\\mu = -2\\ln \\frac{\\mathcal{L}(\\mu, \\hat{\\theta}_\\mu)}{\\mathcal{L}(\\hat{\\mu}, \\hat{\\theta})}$$\n",
    "is that the likelihood is relative to the best-fit likelihood, regardless of how _good_ the best fit is.\n",
    "One can construct another likelihood ratio\n",
    "$$t_{sat} =  -2\\ln \\frac{\\mathcal{L}(\\hat{\\mu}, \\hat{\\theta})}{\\mathcal{L}_{sat}}$$\n",
    "where $\\mathcal{L}_{sat}$ is a special _saturated model_, where every single bin in a binned likelihood has an associated free parameter, and hence the MLE of each parameter will be the observation in the bin:\n",
    "$$\\mathcal{L}_{sat} = \\prod_i \\frac{n_i^{n_i} e^{-n_i}}{n_i!}$$\n",
    "This provides a consistent lower bound on the NLL that allows us to throw toys from our model to build the test statistic distribution $t_{sat}$. The best part is we can do this without having to look at $\\mu$, so it can be evaluated before unblinding! This is a mandatory pre-unblinding check in some PAGs.\n",
    "\n",
    "Although the saturated test is quite robust, it has its limitations, some of which are given by way of example below.\n",
    "- As the number of channels and bins grows, significant fluctuations in a bin could be hidden if the rest of the bins are well-fit. (note though that the max deviation grows with number of bins)\n",
    "- In some cases, the p-value will be very poor due to bad modeling in a control region that constrains a nuisance parameter that is not particularly impactful on the POIs. In such cases, though a CR redesign would help, the SR and the inferred POIs would not change in a meaningful way.\n",
    "- It can be insensitive to certain deviations from the model that would naturally be surprising to a human. By way of analogy, suppose we are testing if a coin is fair and flip it repeatedly, with the result HTHTHTHTHTHTHTHT. The fact that it alternates back and forth exactly is quite surprising yet an aggregate statistic such as the count of heads will not be sensitive to the effect.\n",
    "\n",
    "Let's look at evaluating this goodness of fit from our pre-exercise workspace. Make sure your workspace was created with channel masks! To do so, use\n",
    "```\n",
    "text2workspace.py part3_combined.txt -m 200 -o workspace_part3.root --channel-masks\n",
    "```"
   ]
  },
  {
   "cell_type": "markdown",
   "metadata": {},
   "source": [
    "## Overall GoF"
   ]
  },
  {
   "cell_type": "code",
   "execution_count": 2,
   "metadata": {},
   "outputs": [
    {
     "name": "stdout",
     "output_type": "stream",
     "text": [
      " <<< Combine >>> \n",
      ">>> random number generator seed is 123456\n",
      "Will use saturated models to compute goodness of fit for a binned likelihood\n",
      ">>> method used is GoodnessOfFit\n",
      ">>> 0 out of 3 channels masked\n",
      "\n",
      "\n",
      " --- GoodnessOfFit --- \n",
      "Best fit test statistic: 60.7683\n",
      "Done in 0.00 min (cpu), 0.01 min (real)\n"
     ]
    }
   ],
   "source": [
    "%%bash\n",
    "combine -M GoodnessOfFit workspace_part3.root --algorithm saturated -n .part3"
   ]
  },
  {
   "cell_type": "markdown",
   "metadata": {},
   "source": [
    "This number does not mean anything on its own, but we can use combine's toy generation features to understand it better"
   ]
  },
  {
   "cell_type": "code",
   "execution_count": 11,
   "metadata": {},
   "outputs": [],
   "source": [
    "%%bash\n",
    "# lots of output\n",
    "combine -M GoodnessOfFit workspace_part3.root --algorithm saturated -n .part3_toys -t 100 &>/dev/null"
   ]
  },
  {
   "cell_type": "code",
   "execution_count": 10,
   "metadata": {},
   "outputs": [
    {
     "data": {
      "text/plain": [
       "<matplotlib.legend.Legend at 0x7fe4ac7a4cd0>"
      ]
     },
     "execution_count": 10,
     "metadata": {},
     "output_type": "execute_result"
    },
    {
     "data": {
      "image/png": "[encoded data removed]",
      "text/plain": [
       "<Figure size 432x288 with 1 Axes>"
      ]
     },
     "metadata": {
      "needs_background": "light"
     },
     "output_type": "display_data"
    }
   ],
   "source": [
    "tsat_obs = uproot.open(\n",
    "    \"higgsCombine.part3.GoodnessOfFit.mH120.root\"\n",
    ")[\"limit/limit\"].array()\n",
    "tsat_toys = uproot.open(\n",
    "    \"higgsCombine.part3_toys.GoodnessOfFit.mH120.123456.root\"\n",
    ")[\"limit/limit\"].array()\n",
    "\n",
    "fig, ax = plt.subplots()\n",
    "ax.hist(tsat_toys, histtype=\"step\", linewidth=2, label=\"Toys\")\n",
    "ax.axvline(tsat_obs, linewidth=2, color=\"k\", label=\"Observed\")\n",
    "ax.set_xlabel(\"$t_{sat}$\")\n",
    "ax.set_ylabel(\"Counts\")\n",
    "ax.legend()"
   ]
  },
  {
   "cell_type": "markdown",
   "metadata": {},
   "source": [
    "The meaning of the toys can be expressed \"if this model is the true model, in an ensemble of experiments I would expect this distribution of the saturated test statistic.\" The ensemble of experiments is our set of toys (pseudoexperiments).\n",
    "\n",
    "An important consideration is from what model to throw the toys. One could use either the _pre-fit_ model (all nuisance and signal parameters at their original value) or the _post-fit_ model. The _pre-fit_ model is the default, and we can _post-fit_ model can be sampled by using `--toysFrequentist`. Try changing the above combine commands to throw the post-fit test. For typical models, the pre-fit and post-fit toys should have similar GoF distributions.\n",
    "\n",
    "\n",
    "## CR-only fit\n",
    "We could also ask what the GoF is just from the CRs, which if acceptable, gives us confidence that the CRs are well-modeled without being influenced by the SR. To evaluate, we use both `--setParametersForFit` and `--setParametersForEval`."
   ]
  },
  {
   "cell_type": "code",
   "execution_count": 14,
   "metadata": {},
   "outputs": [],
   "source": [
    "%%bash\n",
    "combine -M GoodnessOfFit workspace_part3.root --algorithm saturated  -n .part3_SRmaskedfit \\\n",
    "    --setParametersForFit mask_signal_region=1,r=0 --freezeParameters r \\\n",
    "    --setParametersForEval mask_signal_region=1  &>/dev/null\n",
    "combine -M GoodnessOfFit workspace_part3.root --algorithm saturated  -n .part3_SRmaskedfit_toys -t 100 \\\n",
    "    --setParametersForFit mask_signal_region=1,r=0 --freezeParameters r \\\n",
    "    --setParametersForEval mask_signal_region=1 &>/dev/null"
   ]
  },
  {
   "cell_type": "code",
   "execution_count": 15,
   "metadata": {},
   "outputs": [
    {
     "data": {
      "text/plain": [
       "<matplotlib.legend.Legend at 0x7fe4ac524bd0>"
      ]
     },
     "execution_count": 15,
     "metadata": {},
     "output_type": "execute_result"
    },
    {
     "data": {
      "image/png": "[encoded data removed]",
      "text/plain": [
       "<Figure size 432x288 with 1 Axes>"
      ]
     },
     "metadata": {
      "needs_background": "light"
     },
     "output_type": "display_data"
    }
   ],
   "source": [
    "tsat_obs = uproot.open(\n",
    "    \"higgsCombine.part3_SRmaskedfit.GoodnessOfFit.mH120.root\"\n",
    ")[\"limit/limit\"].array()\n",
    "tsat_toys = uproot.open(\n",
    "    \"higgsCombine.part3_SRmaskedfit_toys.GoodnessOfFit.mH120.42.root\"\n",
    ")[\"limit/limit\"].array()\n",
    "\n",
    "fig, ax = plt.subplots()\n",
    "ax.hist(tsat_toys, histtype=\"step\", linewidth=2, label=\"Toys\")\n",
    "# add bins=np.linspace(0, 100, 20) to avoid the outlier :)\n",
    "ax.axvline(tsat_obs, linewidth=2, color=\"k\", label=\"Observed\")\n",
    "ax.set_xlabel(\"$t_{sat}$\")\n",
    "ax.set_ylabel(\"Counts\")\n",
    "ax.legend()"
   ]
  },
  {
   "cell_type": "markdown",
   "metadata": {},
   "source": [
    "# Per-channel\n",
    "Since both the nominal and saturated likelihood is the product of per-channel values, we can also ask what the relative contribution of each channel is to the total statistic. In log-space they simply add. Looking at the per-channel GoF allows us to home in on problem channels, and somewhat alleviates the concern about missing a localized extreme deviation.\n",
    "\n",
    "Below we use the `--setParametersForEval` to mask out certain channels. Our work is made a bit more difficult because there is also the nuisance parameter PDF contributing to the statistic (for saturated model, all the nuisances are at their bestfit) that we need to subtract out both in observed and each toy. To ensure the toys are the same in all cases, we pre-generate them."
   ]
  },
  {
   "cell_type": "code",
   "execution_count": 7,
   "metadata": {},
   "outputs": [],
   "source": [
    "%%bash\n",
    "\n",
    "combine -M GenerateOnly workspace_part3.root -t 100 --saveToys -n .part3_toys &>/dev/null\n",
    "\n",
    "combine -M GoodnessOfFit workspace_part3.root --algorithm saturated  -n .part3_allmasked \\\n",
    "    --setParametersForEval mask_signal_region=1,mask_ttbar_cr=1,mask_DY_cr=1  &>/dev/null\n",
    "combine -M GoodnessOfFit workspace_part3.root --algorithm saturated  -n .part3_allmasked_toys \\\n",
    "    -t 100 --toysFile higgsCombine.part3_toys.GenerateOnly.mH120.123456.root \\\n",
    "    --setParametersForEval mask_signal_region=1,mask_ttbar_cr=1,mask_DY_cr=1  &>/dev/null\n",
    "\n",
    "combine -M GoodnessOfFit workspace_part3.root --algorithm saturated  -n .part3_SR \\\n",
    "    --setParametersForEval mask_signal_region=0,mask_ttbar_cr=1,mask_DY_cr=1 &>/dev/null\n",
    "combine -M GoodnessOfFit workspace_part3.root --algorithm saturated  -n .part3_SR_toys \\\n",
    "    -t 100 --toysFile higgsCombine.part3_toys.GenerateOnly.mH120.123456.root \\\n",
    "    --setParametersForEval mask_signal_region=0,mask_ttbar_cr=1,mask_DY_cr=1 &>/dev/null\n",
    "\n",
    "combine -M GoodnessOfFit workspace_part3.root --algorithm saturated  -n .part3_TT \\\n",
    "    --setParametersForEval mask_signal_region=1,mask_ttbar_cr=0,mask_DY_cr=1 &>/dev/null\n",
    "combine -M GoodnessOfFit workspace_part3.root --algorithm saturated  -n .part3_TT_toys \\\n",
    "    -t 100 --toysFile higgsCombine.part3_toys.GenerateOnly.mH120.123456.root \\\n",
    "    --setParametersForEval mask_signal_region=1,mask_ttbar_cr=0,mask_DY_cr=1 &>/dev/null\n",
    "\n",
    "combine -M GoodnessOfFit workspace_part3.root --algorithm saturated  -n .part3_DY \\\n",
    "    --setParametersForEval mask_signal_region=1,mask_ttbar_cr=1,mask_DY_cr=0 &>/dev/null\n",
    "combine -M GoodnessOfFit workspace_part3.root --algorithm saturated  -n .part3_DY_toys \\\n",
    "    -t 100 --toysFile higgsCombine.part3_toys.GenerateOnly.mH120.123456.root \\\n",
    "    --setParametersForEval mask_signal_region=1,mask_ttbar_cr=1,mask_DY_cr=0 &>/dev/null"
   ]
  },
  {
   "cell_type": "code",
   "execution_count": 8,
   "metadata": {},
   "outputs": [
    {
     "data": {
      "image/png": "[encoded data removed]",
      "text/plain": [
       "<Figure size 864x288 with 3 Axes>"
      ]
     },
     "metadata": {
      "needs_background": "light"
     },
     "output_type": "display_data"
    }
   ],
   "source": [
    "channels = [\"SR\", \"TT\", \"DY\"]\n",
    "\n",
    "fig, axes = plt.subplots(1, 3, figsize=(12, 4))\n",
    "\n",
    "\n",
    "tsat_nuis_obs = uproot.open(\n",
    "    \"higgsCombine.part3_allmasked.GoodnessOfFit.mH120.root\"\n",
    ")[\"limit/limit\"].array()\n",
    "tsat_nuis_toys = uproot.open(\n",
    "    \"higgsCombine.part3_allmasked_toys.GoodnessOfFit.mH120.123456.root\"\n",
    ")[\"limit/limit\"].array()\n",
    "\n",
    "for ax, channel in zip(axes, channels):\n",
    "    tsat_obs = uproot.open(\n",
    "        \"higgsCombine.part3_{}.GoodnessOfFit.mH120.root\".format(channel)\n",
    "    )[\"limit/limit\"].array() - tsat_nuis_obs\n",
    "    tsat_toys = uproot.open(\n",
    "        \"higgsCombine.part3_{}_toys.GoodnessOfFit.mH120.123456.root\".format(channel)\n",
    "    )[\"limit/limit\"].array() - tsat_nuis_toys\n",
    "    pval = np.sum(tsat_obs > tsat_toys)*1.0 / len(tsat_toys)\n",
    "    ax.hist(tsat_toys, histtype=\"step\", linewidth=2, label=\"Toys\")\n",
    "    ax.axvline(tsat_obs, linewidth=2, color=\"k\", label=\"Observed p={:.3f}\".format(pval))\n",
    "    ax.set_xlabel(\"$t_{sat}$\")\n",
    "    ax.set_ylabel(\"Counts\")\n",
    "    ax.legend(title=channel)\n",
    "    \n",
    "fig.tight_layout()"
   ]
  },
  {
   "cell_type": "code",
   "execution_count": null,
   "metadata": {},
   "outputs": [],
   "source": []
  }
 ],
 "metadata": {
  "kernelspec": {
   "display_name": "Python 2",
   "language": "python",
   "name": "python2"
  },
  "language_info": {
   "codemirror_mode": {
    "name": "ipython",
    "version": 2
   },
   "file_extension": ".py",
   "mimetype": "text/x-python",
   "name": "python",
   "nbconvert_exporter": "python",
   "pygments_lexer": "ipython2",
   "version": "2.7.15+"
  }
 },
 "nbformat": 4,
 "nbformat_minor": 2
}
